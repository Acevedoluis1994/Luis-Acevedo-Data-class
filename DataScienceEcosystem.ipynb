{
 "cells": [
  {
   "cell_type": "markdown",
   "id": "20c47b60-2ab8-4b3a-aaf4-9433ccc18af8",
   "metadata": {},
   "source": [
    "# Data Science Tools and Ecosystem\n",
    "In this notebook, Data Science Tools and Ecosystem are summarized."
   ]
  },
  {
   "cell_type": "markdown",
   "id": "9127c9d1-8e31-42e0-a6f5-cb63770979c0",
   "metadata": {},
   "source": [
    "**Objectives:**\n",
    "- List popular languages\n",
    "- Commonly used libraries\n",
    "- Development environment open source tools\n",
    "- Arithmetic expression examples"
   ]
  },
  {
   "cell_type": "markdown",
   "id": "b9af1cd6-efd5-4d77-a5e6-371e4aa98862",
   "metadata": {
    "tags": []
   },
   "source": [
    "Some of the popular languages that Data Scientists use are:\n",
    "1. Python\n",
    "2. R\n",
    "3. SQL"
   ]
  },
  {
   "cell_type": "markdown",
   "id": "97ca16e6-598d-4bd1-9178-31b338984061",
   "metadata": {},
   "source": [
    "Some of the commonly used libraries used by Data Scientists include:\n",
    "1. Scientific Computing Librarie\n",
    "2. Visualization Librarie\n",
    "3. High Level Machine Learning "
   ]
  },
  {
   "cell_type": "markdown",
   "id": "b9880281-7d54-462b-bd44-1b57f62b6ea6",
   "metadata": {},
   "source": [
    "| Data Science Tools |\n",
    "| ------------------ |\n",
    "| Jupyter Lab |\n",
    "| VS Code |\n",
    "| Anaconda |"
   ]
  },
  {
   "cell_type": "markdown",
   "id": "c10eea6c-50c7-4274-91fe-cdc643293492",
   "metadata": {},
   "source": [
    "### Below are a few examples of evaluating arithmetic expressions in Python\n"
   ]
  },
  {
   "cell_type": "code",
   "execution_count": 9,
   "id": "b9a0046f-1121-4bf9-a62d-1d35edf85375",
   "metadata": {
    "tags": []
   },
   "outputs": [
    {
     "data": {
      "text/plain": [
       "17"
      ]
     },
     "execution_count": 9,
     "metadata": {},
     "output_type": "execute_result"
    }
   ],
   "source": [
    "# This a simple arithmetic expression to mutiply then add integers\n",
    "(3*4)+5"
   ]
  },
  {
   "cell_type": "code",
   "execution_count": 10,
   "id": "01ddac5c-8ae6-4b01-96f0-a6126d4e4ccb",
   "metadata": {
    "tags": []
   },
   "outputs": [
    {
     "data": {
      "text/plain": [
       "3.3333333333333335"
      ]
     },
     "execution_count": 10,
     "metadata": {},
     "output_type": "execute_result"
    }
   ],
   "source": [
    "# This will convert 200 minutes to hours by diving by 60\n",
    "200/60"
   ]
  },
  {
   "cell_type": "markdown",
   "id": "3b5c9d6b-8349-4ddd-8de4-8a5934fbe52f",
   "metadata": {},
   "source": [
    "## Author\n",
    "Luis Acevedo"
   ]
  },
  {
   "cell_type": "code",
   "execution_count": null,
   "id": "aaf32db9-259c-4c00-9c53-96b8b3e8e3ca",
   "metadata": {},
   "outputs": [],
   "source": []
  }
 ],
 "metadata": {
  "kernelspec": {
   "display_name": "Python",
   "language": "python",
   "name": "conda-env-python-py"
  },
  "language_info": {
   "codemirror_mode": {
    "name": "ipython",
    "version": 3
   },
   "file_extension": ".py",
   "mimetype": "text/x-python",
   "name": "python",
   "nbconvert_exporter": "python",
   "pygments_lexer": "ipython3",
   "version": "3.7.12"
  }
 },
 "nbformat": 4,
 "nbformat_minor": 5
}
